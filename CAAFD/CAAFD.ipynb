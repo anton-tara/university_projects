{
  "nbformat": 4,
  "nbformat_minor": 0,
  "metadata": {
    "colab": {
      "name": "CAAFD.ipynb",
      "provenance": [],
      "collapsed_sections": [
        "nAzDLFX-WuKg",
        "Y9TdWYbUf0LM",
        "d-HNvVKijLz-"
      ],
      "toc_visible": true
    },
    "kernelspec": {
      "name": "python3",
      "display_name": "Python 3"
    },
    "language_info": {
      "name": "python"
    }
  },
  "cells": [
    {
      "cell_type": "markdown",
      "metadata": {
        "id": "nAzDLFX-WuKg"
      },
      "source": [
        "#Импортируем необходимые библиотеки и данные#"
      ]
    },
    {
      "cell_type": "code",
      "metadata": {
        "id": "sTs4WU5gYP70"
      },
      "source": [
        "from cvxopt import matrix, spmatrix\n",
        "import numpy as np\n",
        "import pandas as pd\n",
        "from cvxopt.solvers import options, qp\n",
        "from cvxopt.blas import dot\n",
        "import matplotlib.pyplot as plt"
      ],
      "execution_count": null,
      "outputs": []
    },
    {
      "cell_type": "code",
      "metadata": {
        "id": "Irh68e98XGGQ"
      },
      "source": [
        "df = pd.read_excel('./Baza.xlsx')"
      ],
      "execution_count": null,
      "outputs": []
    },
    {
      "cell_type": "markdown",
      "metadata": {
        "id": "vXXnkhmmXIjY"
      },
      "source": [
        "#Вычислим ожидаемые доходности и ков. матрицу#"
      ]
    },
    {
      "cell_type": "markdown",
      "metadata": {
        "id": "twCJEQ7QZQHC"
      },
      "source": [
        "Депозит по ставке ЦБ"
      ]
    },
    {
      "cell_type": "code",
      "metadata": {
        "id": "s4rS9zsvXUtJ"
      },
      "source": [
        "CB_rate = 5.2"
      ],
      "execution_count": null,
      "outputs": []
    },
    {
      "cell_type": "code",
      "metadata": {
        "id": "c5JKYikQmk9T"
      },
      "source": [
        "Market = np.array(df['MMBБ(MicexIndexCF)'])\n",
        "GAZP = np.array(df['GAZP'])\n",
        "FEES = np.array(df['FEES(ФСК)'])\n",
        "LKOH = np.array(df['LKOH'])\n",
        "SBER = np.array(df['SBER03'])\n",
        "ROSN = np.array(df['ROSN'])\n",
        "VTBR = np.array(df['VTBR'])\n",
        "\n",
        "data = np.array([Market, GAZP, FEES, LKOH, SBER, ROSN, VTBR])"
      ],
      "execution_count": null,
      "outputs": []
    },
    {
      "cell_type": "code",
      "metadata": {
        "id": "oYkEqFR3J5bq"
      },
      "source": [
        "expected_return = np.array([CB_rate/100])#средняя дох-сть\n",
        "standard_deviation = np.array([])#стандартное отклонение\n",
        "market_return, market_deviation = 0, 0\n",
        "rets = np.zeros((6,22))\n",
        "for i in range(7):\n",
        "  arr = data[i]\n",
        "  if i == 0:\n",
        "    ret = [(arr[j+1]-arr[0])/arr[0]*365/(j+1) for j in range(arr.size-1)]\n",
        "    market_return = np.mean(ret)\n",
        "    market_deviation = np.std(ret)\n",
        "    continue\n",
        "  rets[i-1] = [((arr[j+1]-arr[0])/arr[0] * 365/(j+1)) for j in range(arr.size-1)]\n",
        "  expected_return = np.append(expected_return, np.mean(rets[i-1]))\n",
        "  standard_deviation = np.append(standard_deviation, np.std(rets[i-1]))\n",
        "np.set_printoptions(precision=3)\n",
        "covariations = np.cov(rets)#матрица ковариаций\n",
        "\n",
        "covariations = np.concatenate((np.zeros((1, 6)), covariations), axis=0)\n",
        "covariations = np.concatenate((np.zeros((7, 1)), covariations), axis=1)\n",
        "#print(expected_return)"
      ],
      "execution_count": null,
      "outputs": []
    },
    {
      "cell_type": "markdown",
      "metadata": {
        "id": "tkN5Jz-kYwuO"
      },
      "source": [
        "#Доп.ограничения"
      ]
    },
    {
      "cell_type": "code",
      "metadata": {
        "id": "7WWkgYLV4U01"
      },
      "source": [
        "A = matrix([1.0, 1.0, 1.0, 1.0, 1.0, 1.0, 1.0], (1, 7))\n",
        "b = matrix([1.0], (1, 1))"
      ],
      "execution_count": null,
      "outputs": []
    },
    {
      "cell_type": "markdown",
      "metadata": {
        "id": "ls2NeSuoZkoC"
      },
      "source": [
        "##1 вид ограничений"
      ]
    },
    {
      "cell_type": "code",
      "metadata": {
        "id": "38TFAhbDZi1q"
      },
      "source": [
        "l = -np.array([.0, 0,.0,.0,.0,.0,.0])\n",
        "u = np.array([1.0, 1.0,1.0,1.0,1.0,1.0,1.0])"
      ],
      "execution_count": null,
      "outputs": []
    },
    {
      "cell_type": "markdown",
      "metadata": {
        "id": "DlKZqDIkbuyW"
      },
      "source": [
        "Gx<=h \n",
        "\n",
        "-x <= l -> x >= -l\n",
        "\n",
        "x <= u\n"
      ]
    },
    {
      "cell_type": "code",
      "metadata": {
        "id": "ahGV0wvObWaQ"
      },
      "source": [
        "G = matrix([[-1.0, 0.0, 0.0, 0.0, 0.0, 0.0, 0.0],\n",
        "            [0.0, -1.0, 0.0, 0.0, 0.0, 0.0, 0.0],\n",
        "            [0.0, 0.0, -1.0, 0.0, 0.0, 0.0, 0.0],\n",
        "            [0.0, 0.0, 0.0, -1.0, 0.0, 0.0, 0.0],\n",
        "            [0.0, 0.0, 0.0, 0.0, -1.0, 0.0, 0.0],\n",
        "            [0.0, 0.0, 0.0, 0.0, 0.0, -1.0, 0.0],\n",
        "            [0.0, 0.0, 0.0, 0.0, 0.0, 0.0, -1.0],\n",
        "            [1.0, 0.0, 0.0, 0.0, 0.0, 0.0, 0.0],\n",
        "            [0.0, 1.0, 0.0, 0.0, 0.0, 0.0, 0.0],\n",
        "            [0.0, 0.0, 1.0, 0.0, 0.0, 0.0, 0.0],\n",
        "            [0.0, 0.0, 0.0, 1.0, 0.0, 0.0, 0.0],\n",
        "            [0.0, 0.0, 0.0, 0.0, 1.0, 0.0, 0.0],\n",
        "            [0.0, 0.0, 0.0, 0.0, 0.0, 1.0, 0.0],\n",
        "            [0.0, 0.0, 0.0, 0.0, 0.0, 0.0, 1.0]])\n",
        "G = G.trans()\n",
        "h = matrix(np.concatenate((l.T,u.T)).T.tolist(),(14,1))"
      ],
      "execution_count": null,
      "outputs": []
    },
    {
      "cell_type": "markdown",
      "metadata": {
        "id": "Y9TdWYbUf0LM"
      },
      "source": [
        "##2 вид ограничений"
      ]
    },
    {
      "cell_type": "code",
      "metadata": {
        "id": "Y3wFa5XGf2mO"
      },
      "source": [
        "l = -np.array([.0,.0,.0,.0,.0])\n",
        "u = np.array([1.,1.,1.,1.,1.])"
      ],
      "execution_count": null,
      "outputs": []
    },
    {
      "cell_type": "code",
      "metadata": {
        "id": "2Jjqjb5Yf5Fg"
      },
      "source": [
        "G = matrix([[0.0, -1.0, 0.0, -1.0, 0.0, -1.0, 0.0], \n",
        "          [0.0, 0.0, -1.0, 0.0, 0.0, 0.0, 0.0], \n",
        "          [0.0, 0.0, 0.0, 0.0, -1.0, 0.0, -1.0], \n",
        "          [0.0, 0.0, -1.0, -1.0, -1.0, 0.0, -1.0], \n",
        "          [0.0, -1.0, 0.0, 0.0, 0.0, -1.0, 0.0],  \n",
        "          [0.0, 1.0, 0.0, 1.0, 0.0, 1.0, 0.0], \n",
        "          [0.0, 0.0, 1.0, 0.0, 0.0, 0.0, 0.0], \n",
        "          [0.0, 0.0, 0.0, 0.0, 1.0, 0.0, 1.0], \n",
        "          [0.0, 0.0, 1.0, 1.0, 1.0, 0.0, 1.0],  \n",
        "          [0.0, 1.0, 0.0, 0.0, 0.0, 1.0, 0.0]]) \n",
        "G = G.trans()\n",
        "h = matrix(np.concatenate((l.T,u.T)).T.tolist(),(10,1))"
      ],
      "execution_count": null,
      "outputs": []
    },
    {
      "cell_type": "markdown",
      "metadata": {
        "id": "d-HNvVKijLz-"
      },
      "source": [
        "##3 вид ограничений"
      ]
    },
    {
      "cell_type": "code",
      "metadata": {
        "id": "AgrsiKINjOPq"
      },
      "source": [
        "l = np.array([.02,.02,.02,.02,.02])\n",
        "u = np.array([1.,1.,1.,1.,1.])"
      ],
      "execution_count": null,
      "outputs": []
    },
    {
      "cell_type": "code",
      "metadata": {
        "id": "gbZxgwzajQaE"
      },
      "source": [
        "G1 = np.array([[1.0, 1.0, 1.0, 0.0, 0.0, 0.0],\n",
        "            [0.0, 0.0, 0.0, 1.0, 0.0, 0.0],\n",
        "            [0.0, 0.0, 0.0, 0.0, 1.0, 1.0],\n",
        "            [1.0, 0.0, 1.0, 0.0, 0.0, 0.0],\n",
        "            [0.0, 1.0, 0.0, 1.0, 1.0, 1.0]])\n",
        "#G1 = G1.trans()"
      ],
      "execution_count": null,
      "outputs": []
    },
    {
      "cell_type": "code",
      "metadata": {
        "id": "jawax2VZjSt5"
      },
      "source": [
        "G2 = np.array([[1.0, 1.0, 1.0, 0.0, 0.0, 0.0],\n",
        "            [0.0, 0.0, 0.0, 1.0, 0.0, 0.0],\n",
        "            [0.0, 0.0, 0.0, 0.0, 1.0, 1.0],\n",
        "            [1.0, 0.0, 1.0, 0.0, 0.0, 0.0],\n",
        "            [0.0, 1.0, 0.0, 1.0, 1.0, 1.0]])\n",
        "G = np.concatenate((-G1+np.dot(l, G2), G1-np.dot(u, G2)), axis=0)\n",
        "G = matrix(G.tolist(), (10,6))\n",
        "h = matrix(np.zeros((10,1)).tolist(), (10, 1))\n",
        "G = G.trans()"
      ],
      "execution_count": null,
      "outputs": []
    },
    {
      "cell_type": "code",
      "metadata": {
        "id": "_zOgBaSOgzl_"
      },
      "source": [
        ""
      ],
      "execution_count": null,
      "outputs": []
    },
    {
      "cell_type": "markdown",
      "metadata": {
        "id": "LNWWKTa1KlLh"
      },
      "source": [
        "##Граница эффективности для портфеля акций\n"
      ]
    },
    {
      "cell_type": "markdown",
      "metadata": {
        "id": "bxWyuN0qdcVH"
      },
      "source": [
        "Настало время для использования солвера"
      ]
    },
    {
      "cell_type": "code",
      "metadata": {
        "id": "bYpT4DO2dfrY",
        "colab": {
          "base_uri": "https://localhost:8080/"
        },
        "outputId": "27a20687-ccd7-4bf5-90f4-c2fea5bac67d"
      },
      "source": [
        "options['show_progress'] = False\n",
        "theta = 10\n",
        "P = matrix((theta * covariations).tolist(), (7,7))\n",
        "q = -matrix(expected_return.tolist(),(1,7)).trans()\n",
        "ans = qp(P, q, G, h, A, b)['x']\n",
        "print(ans)"
      ],
      "execution_count": null,
      "outputs": [
        {
          "output_type": "stream",
          "text": [
            "[ 6.60e-01]\n",
            "[ 1.87e-09]\n",
            "[ 1.83e-09]\n",
            "[ 1.83e-01]\n",
            "[ 6.77e-02]\n",
            "[ 4.33e-09]\n",
            "[ 9.00e-02]\n",
            "\n"
          ],
          "name": "stdout"
        }
      ]
    },
    {
      "cell_type": "code",
      "metadata": {
        "colab": {
          "base_uri": "https://localhost:8080/"
        },
        "id": "PFe7YAEwvzUn",
        "outputId": "daa63c57-f98c-4d1e-dd82-4722334752e4"
      },
      "source": [
        "companies = df.columns[3:9]\n",
        "print(\"Доля безрискового актива = \", np.round(ans[0],3))\n",
        "for x in range(6):\n",
        "  print(str(\"Доля \"+ str(companies[x])).ljust(25,' '), end='')\n",
        "  print(\"= \",np.round(ans[x+1],3))"
      ],
      "execution_count": null,
      "outputs": [
        {
          "output_type": "stream",
          "text": [
            "Доля безрискового актива =  0.66\n",
            "Доля GAZP                =  0.0\n",
            "Доля FEES(ФСК)           =  0.0\n",
            "Доля LKOH                =  0.183\n",
            "Доля SBER03              =  0.068\n",
            "Доля ROSN                =  0.0\n",
            "Доля VTBR                =  0.09\n"
          ],
          "name": "stdout"
        }
      ]
    },
    {
      "cell_type": "code",
      "metadata": {
        "colab": {
          "base_uri": "https://localhost:8080/"
        },
        "id": "4UQh0uOOoVyl",
        "outputId": "81e674d6-e67a-4ec4-d62a-4f671d715815"
      },
      "source": [
        "print(\"Ожидаемые доходности портфеля и рынка: \")\n",
        "print(np.round((np.dot(expected_return, ans)*100)[0], 3),\"% и \",np.round(market_return*100, 3), \"%\")"
      ],
      "execution_count": null,
      "outputs": [
        {
          "output_type": "stream",
          "text": [
            "Ожидаемые доходности портфеля и рынка: \n",
            "402.851 % и  94.4 %\n"
          ],
          "name": "stdout"
        }
      ]
    },
    {
      "cell_type": "markdown",
      "metadata": {
        "id": "I_o5O9avzg24"
      },
      "source": [
        "##Построение графика эффективности"
      ]
    },
    {
      "cell_type": "code",
      "metadata": {
        "colab": {
          "base_uri": "https://localhost:8080/",
          "height": 469
        },
        "id": "tKOZ05uaFPZH",
        "outputId": "fe745244-5cd5-4ad7-8542-c10fa2850b88"
      },
      "source": [
        "x = np.array(qp(P, q, G, h, A, b)['x'])\n",
        "print(\"\\n X: \\n\", x)\n",
        "\n",
        "#V = 1 - CB_rate/100\n",
        "#print(\"\\nV:\\n\", V)\n",
        "E = market_return\n",
        "print(\"\\nE:\\n\", E)\n",
        "plt.plot([0, 1], [CB_rate/100, E])\n",
        "plt.show()"
      ],
      "execution_count": null,
      "outputs": [
        {
          "output_type": "stream",
          "text": [
            "\n",
            " X: \n",
            " [[-0.548]\n",
            " [ 0.25 ]\n",
            " [ 0.25 ]\n",
            " [ 0.28 ]\n",
            " [ 0.25 ]\n",
            " [ 0.25 ]\n",
            " [ 0.268]]\n",
            "\n",
            "E:\n",
            " 0.9439955807242009\n"
          ],
          "name": "stdout"
        },
        {
          "output_type": "display_data",
          "data": {
            "image/png": "[encoded data removed]",
            "text/plain": [
              "<Figure size 432x288 with 1 Axes>"
            ]
          },
          "metadata": {
            "tags": [],
            "needs_background": "light"
          }
        }
      ]
    },
    {
      "cell_type": "markdown",
      "metadata": {
        "id": "jmBuKqdQl0cV"
      },
      "source": [
        "УРА \n",
        "\n",
        "Мы построили график границы эффективности!!!\n",
        "\n",
        "Мы молодцы"
      ]
    }
  ]
}