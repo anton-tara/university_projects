{
  "nbformat": 4,
  "nbformat_minor": 0,
  "metadata": {
    "colab": {
      "name": "HomeWork5_Tarasov_4.ipynb",
      "provenance": []
    },
    "kernelspec": {
      "name": "python3",
      "display_name": "Python 3"
    },
    "language_info": {
      "name": "python"
    }
  },
  "cells": [
    {
      "cell_type": "code",
      "metadata": {
        "id": "sTs4WU5gYP70"
      },
      "source": [
        "from cvxopt import matrix, spmatrix\n",
        "from numpy import array"
      ],
      "execution_count": null,
      "outputs": []
    },
    {
      "cell_type": "markdown",
      "metadata": {
        "id": "LNWWKTa1KlLh"
      },
      "source": [
        "##Граница эффективности для портфеля акций\n"
      ]
    },
    {
      "cell_type": "markdown",
      "metadata": {
        "id": "e5wTCJgKKjnZ"
      },
      "source": [
        "Выберем 5 классов активов:\n",
        "\n",
        "1\tUS Mid Cap Value\n",
        "\n",
        "2\tUS Mid Cap Growth \n",
        "\n",
        "3\tEuropean Stocks\t\n",
        "\n",
        "4\tPrecious Metals\t\n",
        "\n",
        "5\tIntermediate Term Treasury"
      ]
    },
    {
      "cell_type": "markdown",
      "metadata": {
        "id": "NkVxY9gzVXtL"
      },
      "source": [
        "|Asset| Средняя дох-сть|Отклонение|\n",
        "|--|--|--|\n",
        "|US Mid Cap Value\t|13.35%\t|16.51%|\n",
        "|US Mid Cap Growth|\t13.65%|\t18.76%|\n",
        "|European Stocks\t|10.47%|\t17.72%|\n",
        "|Precious Metals\t|11.84%\t|30.89%|\n",
        "|Intermediate Term Treasury\t|\t6.24%\t|4.80%|\n",
        "\n",
        "\n",
        "|Asset\t|US Mid Cap Value\t|US Mid Cap Growth\t|European Stocks\t|Precious Metals\t|Intermediate Term Treasury|\n",
        "|-------------------|------|------|------|------|------|\n",
        "|US Mid Cap Value\t|1.00\t|0.82\t|0.74\t|0.39\t|-0.09 |\n",
        "|US Mid Cap Growth\t|0.82\t|1.00\t|0.73\t|0.39\t|-0.13 |\n",
        "|European Stocks\t|0.74\t|0.73\t|1.00\t|0.43\t|-0.07 |\n",
        "|Precious Metals\t|0.39\t|0.39\t|0.43\t|1.00\t|-0.01|\n",
        "|Intermediate Term Treasury\t|-0.09\t|-0.13\t|-0.07\t|-0.01\t|1.00 |\n"
      ]
    },
    {
      "cell_type": "code",
      "metadata": {
        "id": "njDl7D9qYHgp"
      },
      "source": [
        "expected_return = array([13.35, 13.65, 10.47,11.84,6.24]) / 100\n",
        "standard_deviation = array([16.51,18.76,17.72,30.89,4.80]) / 100\n",
        "correlations = matrix([[1.00,\t0.82,\t0.74,\t0.39,\t-0.09],\n",
        "                      [0.82,\t1.00,\t0.73,\t0.39,\t-0.13],\n",
        "                      [0.74,\t0.73,\t1.00,\t0.43,\t-0.07],\n",
        "                      [0.39,\t0.39,\t0.43,\t1.00,\t-0.01],\n",
        "                      [-0.09,\t-0.13,\t-0.07,\t-0.01,\t1.00]])"
      ],
      "execution_count": null,
      "outputs": []
    },
    {
      "cell_type": "markdown",
      "metadata": {
        "id": "F_3H17D1aVAH"
      },
      "source": [
        "Построим матрицу ковариации P"
      ]
    },
    {
      "cell_type": "code",
      "metadata": {
        "id": "aPhbIvxXZOMo"
      },
      "source": [
        "P = matrix([[correlations[i,j]*standard_deviation[i]**0.5*standard_deviation[j]**0.5 for i in range(5)] for j in range(5)])\n",
        "P = P.trans()\n",
        "\n",
        "q = matrix(0.0, (5,1))\n",
        "\n",
        "A = matrix([[1.0, 1.0, 1.0, 1.0, 1.0], \n",
        "            expected_return.tolist()])\n",
        "A = A.trans()\n",
        "\n",
        "G = spmatrix(-1.0, range(5), range(5))\n",
        "h = matrix(0.0,(5,1))\n",
        "\n",
        "def new_return(r):\n",
        "    return matrix([1, r])"
      ],
      "execution_count": null,
      "outputs": []
    },
    {
      "cell_type": "markdown",
      "metadata": {
        "id": "5SVjuPUraaSm"
      },
      "source": [
        "Установим ограничения с равенствами A и b"
      ]
    },
    {
      "cell_type": "markdown",
      "metadata": {
        "id": "Ubuids0wcebp"
      },
      "source": [
        "Установим ограничения с неравенствами G и h"
      ]
    },
    {
      "cell_type": "markdown",
      "metadata": {
        "id": "bxWyuN0qdcVH"
      },
      "source": [
        "Настало время для использования солвера"
      ]
    },
    {
      "cell_type": "code",
      "metadata": {
        "id": "bYpT4DO2dfrY"
      },
      "source": [
        "from cvxopt.solvers import options, qp\n",
        "from cvxopt.blas import dot\n",
        "\n",
        "options['show_progress'] = False\n",
        "\n",
        "r = array([0.07, 0.08, 0.11, 0.14])\n",
        "\n",
        "portfolios = [qp((P), (q), G, (h), (A), new_return(r[i]))['x'] for i in range(4)]\n",
        "returns = [ dot(cvxopt.matrix(expected_return),x) for x in portfolios]\n",
        "risks = [ (dot(x, P*x))**0.5 for x in portfolios ]"
      ],
      "execution_count": null,
      "outputs": []
    },
    {
      "cell_type": "markdown",
      "metadata": {
        "id": "7cVrrc2xhL41"
      },
      "source": [
        "Были проверены r из отрезка 2%-20% c шагом 1. Некоторые результаты давали отрицательные веса, хотя неравенства заданы правильно. Как я поонимаю, это говорит об отсутствии решений (из 19 тестов с положительными весами оказались лишь 4) "
      ]
    },
    {
      "cell_type": "markdown",
      "metadata": {
        "id": "Lww-R-7mgR4d"
      },
      "source": [
        "Распечатаем таблички для значений r = 0.07 и 0.14\n",
        "\n",
        "|Доходность | Стандартное отклонение | Веса активов 1-2-3-4-5|\n",
        "|-|-|-|\n",
        "|0.07|0.19|0.0000006 - 0.006 - 0.15 - 0.012 - 0.83|\n",
        "|0.14|0.43|0.00005 - 0.995 - 0.00028 - 0.0016 - 0.0046|"
      ]
    },
    {
      "cell_type": "markdown",
      "metadata": {
        "id": "NAwAUK1zjD-h"
      },
      "source": [
        "Уменьшим шаг до 0.05%"
      ]
    },
    {
      "cell_type": "code",
      "metadata": {
        "id": "xGnH-Kf2jJEp"
      },
      "source": [
        "from numpy import arange\n",
        "r = array([0.07 + i for i in arange(0.0, 0.07, 0.0005)])\n",
        "\n",
        "portfolios = [qp((P), (q), G, (h), (A), new_return(r[i]))['x'] for i in range(r.size)]\n",
        "\n",
        "returns = [ dot(cvxopt.matrix(expected_return),x) for x in portfolios]\n",
        "risks = [ (dot(x, P*x))**0.5 for x in portfolios ]"
      ],
      "execution_count": null,
      "outputs": []
    },
    {
      "cell_type": "code",
      "metadata": {
        "colab": {
          "base_uri": "https://localhost:8080/",
          "height": 380
        },
        "id": "9rIODq-qlwQ-",
        "outputId": "5fe1b392-84cf-4eb0-80d5-1dcc6c26acbe"
      },
      "source": [
        "import pylab\n",
        "pylab.figure(1, facecolor='w')\n",
        "pylab.plot(risks, returns)\n",
        "pylab.xlabel('standard deviation')\n",
        "pylab.ylabel('expected return')\n",
        "pylab.axis([0.15, 0.50, 0, 0.15])\n",
        "pylab.title('Risk-return trade-off curve (fig 4.12)')\n",
        "pylab.yticks([0.00, 0.05, 0.1, 0.15])"
      ],
      "execution_count": null,
      "outputs": [
        {
          "output_type": "execute_result",
          "data": {
            "text/plain": [
              "([<matplotlib.axis.YTick at 0x7f66ca1d12d0>,\n",
              "  <matplotlib.axis.YTick at 0x7f66ca35bd90>,\n",
              "  <matplotlib.axis.YTick at 0x7f66ca1ad590>,\n",
              "  <matplotlib.axis.YTick at 0x7f66ca9dda90>],\n",
              " <a list of 4 Text major ticklabel objects>)"
            ]
          },
          "metadata": {
            "tags": []
          },
          "execution_count": 129
        },
        {
          "output_type": "display_data",
          "data": {
            "image/png": "[encoded data removed]",
            "text/plain": [
              "<Figure size 432x288 with 1 Axes>"
            ]
          },
          "metadata": {
            "tags": []
          }
        }
      ]
    },
    {
      "cell_type": "markdown",
      "metadata": {
        "id": "jmBuKqdQl0cV"
      },
      "source": [
        "УРА \n",
        "\n",
        "Мы построили график границы эффективности!!!\n",
        "\n",
        "Мы молодцы"
      ]
    },
    {
      "cell_type": "markdown",
      "metadata": {
        "id": "U_mKIeF8n-yC"
      },
      "source": [
        "Добавим ограничения на веса активов, чтобы они не были меньше 5% и больше 50%\n",
        "\n",
        "Для этого достаточно исправить матрицу G и вектор h"
      ]
    },
    {
      "cell_type": "code",
      "metadata": {
        "id": "UaYg3e4Xl0-n"
      },
      "source": [
        "G = matrix([[-1.0, 0.0, 0.0, 0.0, 0.0],\n",
        "            [0.0, -1.0, 0.0, 0.0, 0.0],\n",
        "            [0.0, 0.0, -1.0, 0.0, 0.0],\n",
        "            [0.0, 0.0, 0.0, -1.0, 0.0],\n",
        "            [0.0, 0.0, 0.0, 0.0, -1.0],\n",
        "            [1.0, 0.0, 0.0, 0.0, 0.0],\n",
        "            [0.0, 1.0, 0.0, 0.0, 0.0],\n",
        "            [0.0, 0.0, 1.0, 0.0, 0.0],\n",
        "            [0.0, 0.0, 0.0, 1.0, 0.0],\n",
        "            [0.0, 0.0, 0.0, 0.0, 1.0]])\n",
        "G = G.trans()\n",
        "h = matrix([-0.05,-0.05,-0.05,-0.05,-0.05, 0.5,0.5,0.5,0.5,0.5],(10,1))"
      ],
      "execution_count": null,
      "outputs": []
    },
    {
      "cell_type": "code",
      "metadata": {
        "id": "EzYuv4bRqKNK"
      },
      "source": [
        "options['show_progress'] = False\n",
        "r = array([0.09 + i for i in arange(0.0, 0.007, 0.0005)])\n",
        "\n",
        "portfolios = [qp((P), (q), G, (h), (A), new_return(r[i]))['x'] for i in range(r.size)]\n",
        "returns = [ dot(cvxopt.matrix(expected_return),x) for x in portfolios]\n",
        "risks = [ (dot(x, P*x))**0.5 for x in portfolios ]"
      ],
      "execution_count": null,
      "outputs": []
    },
    {
      "cell_type": "markdown",
      "metadata": {
        "id": "4muyIS9DrQ4v"
      },
      "source": [
        "Положительными оказались веса при 0.09<=r<=0.097"
      ]
    },
    {
      "cell_type": "code",
      "metadata": {
        "colab": {
          "base_uri": "https://localhost:8080/",
          "height": 431
        },
        "id": "Oel_--XarY35",
        "outputId": "290d04a3-c553-4779-89d1-a40e03d5b057"
      },
      "source": [
        "import pylab\n",
        "pylab.figure(1, facecolor='w')\n",
        "pylab.plot(risks, returns)\n",
        "pylab.xlabel('standard deviation')\n",
        "pylab.ylabel('expected return')\n",
        "pylab.axis([0.15, 0.25, 0.0, 0.12])\n",
        "pylab.title('Risk-return trade-off curve')\n",
        "pylab.yticks([0.00, 0.02, 0.04, 0.06, 0.08, 0.1, 0.12])"
      ],
      "execution_count": null,
      "outputs": [
        {
          "output_type": "execute_result",
          "data": {
            "text/plain": [
              "([<matplotlib.axis.YTick at 0x7f66c9efbad0>,\n",
              "  <matplotlib.axis.YTick at 0x7f66c9efb3d0>,\n",
              "  <matplotlib.axis.YTick at 0x7f66c9f70250>,\n",
              "  <matplotlib.axis.YTick at 0x7f66c9f235d0>,\n",
              "  <matplotlib.axis.YTick at 0x7f66c9f23b10>,\n",
              "  <matplotlib.axis.YTick at 0x7f66c9f23d50>,\n",
              "  <matplotlib.axis.YTick at 0x7f66c9f23490>],\n",
              " <a list of 7 Text major ticklabel objects>)"
            ]
          },
          "metadata": {
            "tags": []
          },
          "execution_count": 147
        },
        {
          "output_type": "display_data",
          "data": {
            "image/png": "[encoded data removed]",
            "text/plain": [
              "<Figure size 432x288 with 1 Axes>"
            ]
          },
          "metadata": {
            "tags": []
          }
        }
      ]
    },
    {
      "cell_type": "markdown",
      "metadata": {
        "id": "CN0A6oD_r-VB"
      },
      "source": [
        "Получилось, что получилось"
      ]
    }
  ]
}